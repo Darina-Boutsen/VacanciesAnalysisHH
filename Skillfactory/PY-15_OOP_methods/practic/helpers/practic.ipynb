{
 "cells": [
  {
   "cell_type": "code",
   "execution_count": 3,
   "metadata": {},
   "outputs": [],
   "source": [
    "# Классы, как и библиотечные функции, можно импортировать в другие программы. Для этого нужно положить класс в \n",
    "# отдельный файл в корне проекта и использовать ключевое слово import. \n",
    "# Например, если мы положим Dumper в файл dumper.py в корне проекта, то его можно импортировать командой:\n",
    "\n",
    "from dumper import Dumper  \n",
    "# Пишем from <имя файла без .py> import <имя класса>. Имя файла должно начинаться с буквы и не совпадать с именами \n",
    "# библиотечных модулей. Если файлов с классами много, их можно складывать в папки, предварительно положив туда пустой \n",
    "# файл __init__.py — это требование Python.\n",
    "\n",
    "\n",
    "# Импортируем, соединяя все шаги через точку с помощью того же синтаксиса, что использовался для импорта библиотечных \n",
    "# функций.\n",
    "from dumper import Dumper  \n",
    "from data_frame import DataFrame  \n",
    "from client import Client  "
   ]
  }
 ],
 "metadata": {
  "kernelspec": {
   "display_name": "Python 3",
   "language": "python",
   "name": "python3"
  },
  "language_info": {
   "codemirror_mode": {
    "name": "ipython",
    "version": 3
   },
   "file_extension": ".py",
   "mimetype": "text/x-python",
   "name": "python",
   "nbconvert_exporter": "python",
   "pygments_lexer": "ipython3",
   "version": "3.11.4"
  }
 },
 "nbformat": 4,
 "nbformat_minor": 2
}
