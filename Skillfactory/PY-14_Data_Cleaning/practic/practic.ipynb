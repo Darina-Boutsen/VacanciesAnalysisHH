{
 "cells": [
  {
   "cell_type": "code",
   "execution_count": 1,
   "metadata": {},
   "outputs": [],
   "source": [
    "import pandas as pd\n",
    "import numpy as np"
   ]
  },
  {
   "cell_type": "code",
   "execution_count": 4,
   "metadata": {},
   "outputs": [
    {
     "data": {
      "text/html": [
       "<div>\n",
       "<style scoped>\n",
       "    .dataframe tbody tr th:only-of-type {\n",
       "        vertical-align: middle;\n",
       "    }\n",
       "\n",
       "    .dataframe tbody tr th {\n",
       "        vertical-align: top;\n",
       "    }\n",
       "\n",
       "    .dataframe thead th {\n",
       "        text-align: right;\n",
       "    }\n",
       "</style>\n",
       "<table border=\"1\" class=\"dataframe\">\n",
       "  <thead>\n",
       "    <tr style=\"text-align: right;\">\n",
       "      <th></th>\n",
       "      <th>Pregnancies</th>\n",
       "      <th>Glucose</th>\n",
       "      <th>BloodPressure</th>\n",
       "      <th>SkinThickness</th>\n",
       "      <th>Insulin</th>\n",
       "      <th>BMI</th>\n",
       "      <th>DiabetesPedigreeFunction</th>\n",
       "      <th>Age</th>\n",
       "      <th>Outcome</th>\n",
       "      <th>Gender</th>\n",
       "    </tr>\n",
       "  </thead>\n",
       "  <tbody>\n",
       "    <tr>\n",
       "      <th>0</th>\n",
       "      <td>6</td>\n",
       "      <td>98</td>\n",
       "      <td>58</td>\n",
       "      <td>33</td>\n",
       "      <td>190</td>\n",
       "      <td>34.0</td>\n",
       "      <td>0.430</td>\n",
       "      <td>43</td>\n",
       "      <td>0</td>\n",
       "      <td>Female</td>\n",
       "    </tr>\n",
       "    <tr>\n",
       "      <th>1</th>\n",
       "      <td>2</td>\n",
       "      <td>112</td>\n",
       "      <td>75</td>\n",
       "      <td>32</td>\n",
       "      <td>0</td>\n",
       "      <td>35.7</td>\n",
       "      <td>0.148</td>\n",
       "      <td>21</td>\n",
       "      <td>0</td>\n",
       "      <td>Female</td>\n",
       "    </tr>\n",
       "    <tr>\n",
       "      <th>2</th>\n",
       "      <td>2</td>\n",
       "      <td>108</td>\n",
       "      <td>64</td>\n",
       "      <td>0</td>\n",
       "      <td>0</td>\n",
       "      <td>30.8</td>\n",
       "      <td>0.158</td>\n",
       "      <td>21</td>\n",
       "      <td>0</td>\n",
       "      <td>Female</td>\n",
       "    </tr>\n",
       "    <tr>\n",
       "      <th>3</th>\n",
       "      <td>8</td>\n",
       "      <td>107</td>\n",
       "      <td>80</td>\n",
       "      <td>0</td>\n",
       "      <td>0</td>\n",
       "      <td>24.6</td>\n",
       "      <td>0.856</td>\n",
       "      <td>34</td>\n",
       "      <td>0</td>\n",
       "      <td>Female</td>\n",
       "    </tr>\n",
       "    <tr>\n",
       "      <th>4</th>\n",
       "      <td>7</td>\n",
       "      <td>136</td>\n",
       "      <td>90</td>\n",
       "      <td>0</td>\n",
       "      <td>0</td>\n",
       "      <td>29.9</td>\n",
       "      <td>0.210</td>\n",
       "      <td>50</td>\n",
       "      <td>0</td>\n",
       "      <td>Female</td>\n",
       "    </tr>\n",
       "  </tbody>\n",
       "</table>\n",
       "</div>"
      ],
      "text/plain": [
       "   Pregnancies  Glucose  BloodPressure  SkinThickness  Insulin   BMI  \\\n",
       "0            6       98             58             33      190  34.0   \n",
       "1            2      112             75             32        0  35.7   \n",
       "2            2      108             64              0        0  30.8   \n",
       "3            8      107             80              0        0  24.6   \n",
       "4            7      136             90              0        0  29.9   \n",
       "\n",
       "   DiabetesPedigreeFunction  Age  Outcome  Gender  \n",
       "0                     0.430   43        0  Female  \n",
       "1                     0.148   21        0  Female  \n",
       "2                     0.158   21        0  Female  \n",
       "3                     0.856   34        0  Female  \n",
       "4                     0.210   50        0  Female  "
      ]
     },
     "execution_count": 4,
     "metadata": {},
     "output_type": "execute_result"
    }
   ],
   "source": [
    "diabetes = pd.read_csv('C:\\IDE\\Skillfactory\\PY-14-Data_Cleaning\\practic\\\\diabetes.csv')\n",
    "diabetes.head()\n",
    "\n",
    "# Признаки в данных:\n",
    "# Pregnancies — количество беременностей.\n",
    "# Glucose — концентрация глюкозы в плазме через два часа при пероральном тесте на толерантность к глюкозе.\n",
    "#BloodPressure — диастолическое артериальное давление (мм рт. ст.).\n",
    "#SkinThickness — толщина кожной складки трицепса (мм).\n",
    "# Insulin — двухчасовой сывороточный инсулин (ме Ед/мл).\n",
    "# BMI — индекс массы тела (вес/рост)\n",
    "# DiabetesPedigreeFunction — функция родословной диабета (чем она выше, тем выше шанс наследственной заболеваемости).\n",
    "# Age — возраст.\n",
    "# Outcome — наличие диабета (0 — нет, 1 — да)."
   ]
  },
  {
   "cell_type": "code",
   "execution_count": 5,
   "metadata": {},
   "outputs": [
    {
     "data": {
      "text/plain": [
       "768"
      ]
     },
     "execution_count": 5,
     "metadata": {},
     "output_type": "execute_result"
    }
   ],
   "source": [
    "# Начнём с поиска дубликатов в данных. Найдите все повторяющиеся строки в данных и удалите их. Для поиска используйте \n",
    "# все признаки в данных. Сколько записей осталось в данных?\n",
    "\n",
    "diabetes = diabetes.drop_duplicates()\n",
    "diabetes.shape[0]"
   ]
  },
  {
   "cell_type": "code",
   "execution_count": 37,
   "metadata": {},
   "outputs": [
    {
     "name": "stdout",
     "output_type": "stream",
     "text": [
      "[]\n"
     ]
    }
   ],
   "source": [
    "# Далее найдите все неинформативные признаки в данных и избавьтесь от них. В качестве порога информативности \n",
    "# возьмите 0.95: удалите все признаки, для которых 95 % значений повторяются или 95 % записей уникальны. В ответ \n",
    "# запишите имена признаков, которые вы нашли (без кавычек).\n",
    "\n",
    "low_information_col = []\n",
    "\n",
    "for col in diabetes.columns:\n",
    "    top_freq = diabetes[col].value_counts(normalize=True).max()\n",
    "    nunique_ratio = diabetes[col].nunique() / diabetes[col].count()\n",
    "    if top_freq > 0.95:\n",
    "        low_information_col.append(col)\n",
    "    if nunique_ratio > 0.95:\n",
    "        low_information_col.append(col)\n",
    "        \n",
    "print(low_information_col)\n",
    "diabetes = diabetes.drop(low_information_col, axis=1)"
   ]
  },
  {
   "cell_type": "code",
   "execution_count": 49,
   "metadata": {},
   "outputs": [
    {
     "data": {
      "text/plain": [
       "Insulin                     0.49\n",
       "SkinThickness               0.30\n",
       "BloodPressure               0.05\n",
       "Glucose                     0.01\n",
       "BMI                         0.01\n",
       "Pregnancies                 0.00\n",
       "DiabetesPedigreeFunction    0.00\n",
       "Age                         0.00\n",
       "Outcome                     0.00\n",
       "dtype: float64"
      ]
     },
     "execution_count": 49,
     "metadata": {},
     "output_type": "execute_result"
    }
   ],
   "source": [
    "# Замените все записи, равные 0, в столбцах Glucose, BloodPressure, SkinThickness, Insulin и BMI на символ пропуска. \n",
    "# Его вы можете взять из библиотеки numpy: np.nan.\n",
    "#Какая доля пропусков содержится в столбце Insulin? Ответ округлите до сотых.\n",
    "\n",
    "cols = ['Glucose', 'BloodPressure', 'SkinThickness', 'Insulin', 'BMI']\n",
    "\n",
    "for col in diabetes.columns:\n",
    "    if col in cols:\n",
    "        diabetes[col] = diabetes[col].apply(lambda x: np.nan if x == 0 else x)\n",
    "\n",
    "\n",
    "round(diabetes['Insulin'].isnull().mean(), 2)\n",
    "# ИЛИ\n",
    "diabetes.isnull().mean().round(2).sort_values(ascending=False)"
   ]
  },
  {
   "cell_type": "code",
   "execution_count": 57,
   "metadata": {},
   "outputs": [
    {
     "name": "stdout",
     "output_type": "stream",
     "text": [
      "8\n"
     ]
    }
   ],
   "source": [
    "# Удалите из данных признаки, где число пропусков составляет более 30 %. Сколько признаков осталось в ваших данных \n",
    "# (с учетом удаленных неинформативных признаков в задании 8.2)?\n",
    "\n",
    "thresh = diabetes.shape[0]*0.7\n",
    "diabetes = diabetes.dropna(thresh=thresh, axis=1)\n",
    "print(diabetes.shape[1])"
   ]
  },
  {
   "cell_type": "code",
   "execution_count": 63,
   "metadata": {},
   "outputs": [
    {
     "data": {
      "text/plain": [
       "761"
      ]
     },
     "execution_count": 63,
     "metadata": {},
     "output_type": "execute_result"
    }
   ],
   "source": [
    "# Удалите из данных только те строки, в которых содержится более двух пропусков одновременно. Чему равно результирующее \n",
    "# число записей в таблице?\n",
    "\n",
    "m = diabetes.shape[1]\n",
    "diabetes = diabetes.dropna(thresh=m-2, axis=0)\n",
    "diabetes.shape[0]"
   ]
  },
  {
   "cell_type": "code",
   "execution_count": 69,
   "metadata": {},
   "outputs": [
    {
     "ename": "KeyError",
     "evalue": "'Insulin'",
     "output_type": "error",
     "traceback": [
      "\u001b[1;31m---------------------------------------------------------------------------\u001b[0m",
      "\u001b[1;31mKeyError\u001b[0m                                  Traceback (most recent call last)",
      "File \u001b[1;32mc:\\Users\\spbda\\AppData\\Local\\Programs\\Python\\Python311\\Lib\\site-packages\\pandas\\core\\indexes\\base.py:3653\u001b[0m, in \u001b[0;36mIndex.get_loc\u001b[1;34m(self, key)\u001b[0m\n\u001b[0;32m   3652\u001b[0m \u001b[39mtry\u001b[39;00m:\n\u001b[1;32m-> 3653\u001b[0m     \u001b[39mreturn\u001b[39;00m \u001b[39mself\u001b[39;49m\u001b[39m.\u001b[39;49m_engine\u001b[39m.\u001b[39;49mget_loc(casted_key)\n\u001b[0;32m   3654\u001b[0m \u001b[39mexcept\u001b[39;00m \u001b[39mKeyError\u001b[39;00m \u001b[39mas\u001b[39;00m err:\n",
      "File \u001b[1;32mc:\\Users\\spbda\\AppData\\Local\\Programs\\Python\\Python311\\Lib\\site-packages\\pandas\\_libs\\index.pyx:147\u001b[0m, in \u001b[0;36mpandas._libs.index.IndexEngine.get_loc\u001b[1;34m()\u001b[0m\n",
      "File \u001b[1;32mc:\\Users\\spbda\\AppData\\Local\\Programs\\Python\\Python311\\Lib\\site-packages\\pandas\\_libs\\index.pyx:176\u001b[0m, in \u001b[0;36mpandas._libs.index.IndexEngine.get_loc\u001b[1;34m()\u001b[0m\n",
      "File \u001b[1;32mpandas\\_libs\\hashtable_class_helper.pxi:7080\u001b[0m, in \u001b[0;36mpandas._libs.hashtable.PyObjectHashTable.get_item\u001b[1;34m()\u001b[0m\n",
      "File \u001b[1;32mpandas\\_libs\\hashtable_class_helper.pxi:7088\u001b[0m, in \u001b[0;36mpandas._libs.hashtable.PyObjectHashTable.get_item\u001b[1;34m()\u001b[0m\n",
      "\u001b[1;31mKeyError\u001b[0m: 'Insulin'",
      "\nThe above exception was the direct cause of the following exception:\n",
      "\u001b[1;31mKeyError\u001b[0m                                  Traceback (most recent call last)",
      "\u001b[1;32mc:\\IDE\\Skillfactory\\PY-14 Data Cleaning\\practic\\practic.ipynb Ячейка 8\u001b[0m line \u001b[0;36m5\n\u001b[0;32m      <a href='vscode-notebook-cell:/c%3A/IDE/Skillfactory/PY-14%20Data%20Cleaning/practic/practic.ipynb#X13sZmlsZQ%3D%3D?line=0'>1</a>\u001b[0m \u001b[39m# В оставшихся записях замените пропуски на медиану. Чему равно среднее значение в столбце SkinThickness? \u001b[39;00m\n\u001b[0;32m      <a href='vscode-notebook-cell:/c%3A/IDE/Skillfactory/PY-14%20Data%20Cleaning/practic/practic.ipynb#X13sZmlsZQ%3D%3D?line=1'>2</a>\u001b[0m \u001b[39m# Ответ округлите до десятых.\u001b[39;00m\n\u001b[0;32m      <a href='vscode-notebook-cell:/c%3A/IDE/Skillfactory/PY-14%20Data%20Cleaning/practic/practic.ipynb#X13sZmlsZQ%3D%3D?line=3'>4</a>\u001b[0m values \u001b[39m=\u001b[39m {\n\u001b[1;32m----> <a href='vscode-notebook-cell:/c%3A/IDE/Skillfactory/PY-14%20Data%20Cleaning/practic/practic.ipynb#X13sZmlsZQ%3D%3D?line=4'>5</a>\u001b[0m     diabetes[\u001b[39m'\u001b[39;49m\u001b[39mInsulin\u001b[39;49m\u001b[39m'\u001b[39;49m]: diabetes[\u001b[39m'\u001b[39m\u001b[39mInsulin\u001b[39m\u001b[39m'\u001b[39m]\u001b[39m.\u001b[39mmedian(),\n\u001b[0;32m      <a href='vscode-notebook-cell:/c%3A/IDE/Skillfactory/PY-14%20Data%20Cleaning/practic/practic.ipynb#X13sZmlsZQ%3D%3D?line=5'>6</a>\u001b[0m     diabetes[\u001b[39m'\u001b[39m\u001b[39mSkinThickness\u001b[39m\u001b[39m'\u001b[39m]: diabetes[\u001b[39m'\u001b[39m\u001b[39mSkinThickness\u001b[39m\u001b[39m'\u001b[39m]\u001b[39m.\u001b[39mmedian(),\n\u001b[0;32m      <a href='vscode-notebook-cell:/c%3A/IDE/Skillfactory/PY-14%20Data%20Cleaning/practic/practic.ipynb#X13sZmlsZQ%3D%3D?line=6'>7</a>\u001b[0m     diabetes[\u001b[39m'\u001b[39m\u001b[39mBloodPressure\u001b[39m\u001b[39m'\u001b[39m]: diabetes[\u001b[39m'\u001b[39m\u001b[39mBloodPressure\u001b[39m\u001b[39m'\u001b[39m]\u001b[39m.\u001b[39mmedian(),\n\u001b[0;32m      <a href='vscode-notebook-cell:/c%3A/IDE/Skillfactory/PY-14%20Data%20Cleaning/practic/practic.ipynb#X13sZmlsZQ%3D%3D?line=7'>8</a>\u001b[0m     diabetes[\u001b[39m'\u001b[39m\u001b[39mGlucose\u001b[39m\u001b[39m'\u001b[39m]: diabetes[\u001b[39m'\u001b[39m\u001b[39mGlucose\u001b[39m\u001b[39m'\u001b[39m]\u001b[39m.\u001b[39mmedian(),\n\u001b[0;32m      <a href='vscode-notebook-cell:/c%3A/IDE/Skillfactory/PY-14%20Data%20Cleaning/practic/practic.ipynb#X13sZmlsZQ%3D%3D?line=8'>9</a>\u001b[0m     diabetes[\u001b[39m'\u001b[39m\u001b[39mBMI\u001b[39m\u001b[39m'\u001b[39m]: diabetes[\u001b[39m'\u001b[39m\u001b[39mBMI\u001b[39m\u001b[39m'\u001b[39m]\u001b[39m.\u001b[39mmedian()\n\u001b[0;32m     <a href='vscode-notebook-cell:/c%3A/IDE/Skillfactory/PY-14%20Data%20Cleaning/practic/practic.ipynb#X13sZmlsZQ%3D%3D?line=9'>10</a>\u001b[0m }\n\u001b[0;32m     <a href='vscode-notebook-cell:/c%3A/IDE/Skillfactory/PY-14%20Data%20Cleaning/practic/practic.ipynb#X13sZmlsZQ%3D%3D?line=11'>12</a>\u001b[0m diabetes \u001b[39m=\u001b[39m diabetes\u001b[39m.\u001b[39mfillna(values)\n\u001b[0;32m     <a href='vscode-notebook-cell:/c%3A/IDE/Skillfactory/PY-14%20Data%20Cleaning/practic/practic.ipynb#X13sZmlsZQ%3D%3D?line=13'>14</a>\u001b[0m diabetes[\u001b[39m'\u001b[39m\u001b[39mSkinThickness\u001b[39m\u001b[39m'\u001b[39m]\u001b[39m.\u001b[39mmean()\n",
      "File \u001b[1;32mc:\\Users\\spbda\\AppData\\Local\\Programs\\Python\\Python311\\Lib\\site-packages\\pandas\\core\\frame.py:3761\u001b[0m, in \u001b[0;36mDataFrame.__getitem__\u001b[1;34m(self, key)\u001b[0m\n\u001b[0;32m   3759\u001b[0m \u001b[39mif\u001b[39;00m \u001b[39mself\u001b[39m\u001b[39m.\u001b[39mcolumns\u001b[39m.\u001b[39mnlevels \u001b[39m>\u001b[39m \u001b[39m1\u001b[39m:\n\u001b[0;32m   3760\u001b[0m     \u001b[39mreturn\u001b[39;00m \u001b[39mself\u001b[39m\u001b[39m.\u001b[39m_getitem_multilevel(key)\n\u001b[1;32m-> 3761\u001b[0m indexer \u001b[39m=\u001b[39m \u001b[39mself\u001b[39;49m\u001b[39m.\u001b[39;49mcolumns\u001b[39m.\u001b[39;49mget_loc(key)\n\u001b[0;32m   3762\u001b[0m \u001b[39mif\u001b[39;00m is_integer(indexer):\n\u001b[0;32m   3763\u001b[0m     indexer \u001b[39m=\u001b[39m [indexer]\n",
      "File \u001b[1;32mc:\\Users\\spbda\\AppData\\Local\\Programs\\Python\\Python311\\Lib\\site-packages\\pandas\\core\\indexes\\base.py:3655\u001b[0m, in \u001b[0;36mIndex.get_loc\u001b[1;34m(self, key)\u001b[0m\n\u001b[0;32m   3653\u001b[0m     \u001b[39mreturn\u001b[39;00m \u001b[39mself\u001b[39m\u001b[39m.\u001b[39m_engine\u001b[39m.\u001b[39mget_loc(casted_key)\n\u001b[0;32m   3654\u001b[0m \u001b[39mexcept\u001b[39;00m \u001b[39mKeyError\u001b[39;00m \u001b[39mas\u001b[39;00m err:\n\u001b[1;32m-> 3655\u001b[0m     \u001b[39mraise\u001b[39;00m \u001b[39mKeyError\u001b[39;00m(key) \u001b[39mfrom\u001b[39;00m \u001b[39merr\u001b[39;00m\n\u001b[0;32m   3656\u001b[0m \u001b[39mexcept\u001b[39;00m \u001b[39mTypeError\u001b[39;00m:\n\u001b[0;32m   3657\u001b[0m     \u001b[39m# If we have a listlike key, _check_indexing_error will raise\u001b[39;00m\n\u001b[0;32m   3658\u001b[0m     \u001b[39m#  InvalidIndexError. Otherwise we fall through and re-raise\u001b[39;00m\n\u001b[0;32m   3659\u001b[0m     \u001b[39m#  the TypeError.\u001b[39;00m\n\u001b[0;32m   3660\u001b[0m     \u001b[39mself\u001b[39m\u001b[39m.\u001b[39m_check_indexing_error(key)\n",
      "\u001b[1;31mKeyError\u001b[0m: 'Insulin'"
     ]
    }
   ],
   "source": [
    "# В оставшихся записях замените пропуски на медиану. Чему равно среднее значение в столбце SkinThickness? \n",
    "# Ответ округлите до десятых.\n",
    "\n",
    "values = {\n",
    "    'Insulin': diabetes['Insulin'].median(),\n",
    "    'SkinThickness': diabetes['SkinThickness'].median(),\n",
    "    'BloodPressure': diabetes['BloodPressure'].median(),\n",
    "    'Glucose': diabetes['Glucose'].median(),\n",
    "    'BMI': diabetes['BMI'].median()\n",
    "}\n",
    "\n",
    "diabetes = diabetes.fillna(values)\n",
    "\n",
    "diabetes['SkinThickness'].mean()"
   ]
  },
  {
   "cell_type": "code",
   "execution_count": 68,
   "metadata": {},
   "outputs": [
    {
     "name": "stdout",
     "output_type": "stream",
     "text": [
      "29.1\n"
     ]
    }
   ],
   "source": [
    "null_data = diabetes.isnull().sum()\n",
    "cols = null_data[null_data>0].index\n",
    "for col in cols:\n",
    "    diabetes[col] = diabetes[col].fillna(diabetes[col].median())\n",
    "print(diabetes['SkinThickness'].mean().round(1))"
   ]
  },
  {
   "cell_type": "code",
   "execution_count": 71,
   "metadata": {},
   "outputs": [
    {
     "name": "stdout",
     "output_type": "stream",
     "text": [
      "Число выбросов по методу Тьюки: 87\n",
      "Результирующее число записей: 674\n"
     ]
    }
   ],
   "source": [
    "# Сколько выбросов найдёт классический метод межквартильного размаха в признаке SkinThickness?\n",
    "\n",
    "def outliers_iqr(data, feature):\n",
    "    x = data[feature]\n",
    "    quartile_1, quartile_3 = x.quantile(0.25), x.quantile(0.75),\n",
    "    iqr = quartile_3 - quartile_1\n",
    "    lower_bound = quartile_1 - (iqr * 1.5)\n",
    "    upper_bound = quartile_3 + (iqr * 1.5)\n",
    "    outliers = data[(x < lower_bound) | (x > upper_bound)]\n",
    "    cleaned = data[(x >= lower_bound) & (x <= upper_bound)]\n",
    "    return outliers, cleaned\n",
    "\n",
    "outliers, cleaned = outliers_iqr(diabetes, 'SkinThickness')\n",
    "print(f'Число выбросов по методу Тьюки: {outliers.shape[0]}')\n",
    "print(f'Результирующее число записей: {cleaned.shape[0]}')"
   ]
  },
  {
   "cell_type": "code",
   "execution_count": 73,
   "metadata": {},
   "outputs": [
    {
     "name": "stdout",
     "output_type": "stream",
     "text": [
      "Число выбросов по методу Тьюки: 4\n",
      "Результирующее число записей: 757\n"
     ]
    }
   ],
   "source": [
    "# Сколько выбросов найдёт классический метод z-отклонения в признаке SkinThickness?\n",
    "\n",
    "def outliers_z_score(data, feature, log_scale=False):\n",
    "    if log_scale:\n",
    "        x = np.log(data[feature]+1)\n",
    "    else:\n",
    "        x = data[feature]\n",
    "    mu = x.mean()\n",
    "    sigma = x.std()\n",
    "    lower_bound = mu - 3 * sigma\n",
    "    upper_bound = mu + 3 * sigma\n",
    "    outliers = data[(x < lower_bound) | (x > upper_bound)]\n",
    "    cleaned = data[(x >= lower_bound) & (x <= upper_bound)]\n",
    "    return outliers, cleaned\n",
    "\n",
    "outliers, cleaned = outliers_z_score(diabetes, 'SkinThickness')\n",
    "print(f'Число выбросов по методу Тьюки: {outliers.shape[0]}')\n",
    "print(f'Результирующее число записей: {cleaned.shape[0]}')"
   ]
  },
  {
   "cell_type": "code",
   "execution_count": 75,
   "metadata": {},
   "outputs": [
    {
     "name": "stdout",
     "output_type": "stream",
     "text": [
      "Число выбросов по методу Тьюки: 29\n",
      "Результирующее число записей: 732\n",
      "0\n"
     ]
    }
   ],
   "source": [
    "# На приведённой гистограмме показано распределение признака DiabetesPedigreeFunction. Такой вид распределения очень \n",
    "# похож на логнормальный, и он заставляет задуматься о логарифмировании признака. Найдите сначала число выбросов в \n",
    "# признаке DiabetesPedigreeFunction с помощью классического метода межквартильного размаха.\n",
    "\n",
    "# Затем найдите число выбросов в этом же признаке в логарифмическом масштабе (при логарифмировании единицу прибавлять \n",
    "# не нужно!). Какова разница между двумя этими числами (вычтите из первого второе)?\n",
    "\n",
    "outliers, cleaned = outliers_iqr(diabetes, 'DiabetesPedigreeFunction')\n",
    "print(f'Число выбросов по методу Тьюки: {outliers.shape[0]}')\n",
    "print(f'Результирующее число записей: {cleaned.shape[0]}')\n",
    "\n",
    "def outliers_iqr_mod(data, feature, left=1.5, right=1.5, log_scale=False):\n",
    "    if log_scale:\n",
    "        x = np.log(data[feature])\n",
    "    else:\n",
    "        x= data[feature]\n",
    "    quartile_1, quartile_3 = x.quantile(0.25), x.quantile(0.75),\n",
    "    iqr = quartile_3 - quartile_1\n",
    "    lower_bound = quartile_1 - (iqr * left)\n",
    "    upper_bound = quartile_3 + (iqr * right)\n",
    "    outliers = data[(x < lower_bound) | (x > upper_bound)]\n",
    "    cleaned = data[(x >= lower_bound) & (x <= upper_bound)]\n",
    "    return outliers, cleaned\n",
    "\n",
    "outliers, cleaned = outliers_iqr_mod(data = diabetes, feature = 'DiabetesPedigreeFunction', left = 3, right = 3, log_scale=True)\n",
    "print(outliers.shape[0])"
   ]
  }
 ],
 "metadata": {
  "kernelspec": {
   "display_name": "Python 3",
   "language": "python",
   "name": "python3"
  },
  "language_info": {
   "codemirror_mode": {
    "name": "ipython",
    "version": 3
   },
   "file_extension": ".py",
   "mimetype": "text/x-python",
   "name": "python",
   "nbconvert_exporter": "python",
   "pygments_lexer": "ipython3",
   "version": "3.11.4"
  }
 },
 "nbformat": 4,
 "nbformat_minor": 2
}
