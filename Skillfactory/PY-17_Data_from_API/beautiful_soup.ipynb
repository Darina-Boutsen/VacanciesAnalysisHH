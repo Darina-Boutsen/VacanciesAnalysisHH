{
 "cells": [
  {
   "cell_type": "code",
   "execution_count": 7,
   "metadata": {},
   "outputs": [],
   "source": [
    "from bs4 import BeautifulSoup # Импортируем библиотеку BeautifulSoup"
   ]
  },
  {
   "cell_type": "code",
   "execution_count": 8,
   "metadata": {},
   "outputs": [
    {
     "name": "stdout",
     "output_type": "stream",
     "text": [
      "<title>Премию Нобеля по экономике присудили за исследования экономики труда и причинно-следственных связей</title>\n",
      "Премию Нобеля по экономике присудили за исследования экономики труда и причинно-следственных связей\n"
     ]
    }
   ],
   "source": [
    "# Ранее мы уже получили содержимое страницы с помощью GET-запроса и сохранили информацию в переменной response, \n",
    "# теперь создадим объект BeautifulSoup с именем page, указывая в качестве параметра html.parser.\n",
    "# Для примера получим информацию o title (с англ. заголовок) — это строка, которая отображается на вкладке браузера:\n",
    "\n",
    "import requests # Импортируем библиотеку requests\n",
    "from bs4 import BeautifulSoup # Импортируем библиотеку BeautifulSoup\n",
    "url = 'https://nplus1.ru/news/2021/10/11/econobel2021' # Определяем адрес страницы\n",
    "response = requests.get(url) # Выполняем GET-запрос, содержимое ответа присваивается переменной response\n",
    "page = BeautifulSoup(response.text, 'html.parser') # Создаём объект BeautifulSoup, указывая html-парсер\n",
    "print(page.title) # Получаем тег title, отображающийся на вкладке браузера\n",
    "print(page.title.text) # Выводим текст из полученного тега, который содержится в атрибуте text"
   ]
  },
  {
   "cell_type": "code",
   "execution_count": 9,
   "metadata": {},
   "outputs": [
    {
     "data": {
      "text/plain": [
       "<Response [200]>"
      ]
     },
     "execution_count": 9,
     "metadata": {},
     "output_type": "execute_result"
    }
   ],
   "source": [
    "# Если при запросе к сайту, а затем при его разборе с помощью BeautifulSoup в тексте страницы не находится нужный \n",
    "# тег, попробуйте вывести на печать пару тысяч символов текста страницы. Если там обнаружится нечто похожее на \n",
    "# капчу, возможно, сайт посчитал вас роботом и отказывается выдавать содержимое. Чтобы получить его, попробуйте \n",
    "# «притвориться» браузером при запросе из скрипта:\n",
    "\n",
    "requests.get(url, headers={'User-Agent': 'Mozilla/5.0'})\n",
    "# User-Agent своего браузера можно узнать по этой ссылке:\n",
    "# https://whatmyuseragent.com/"
   ]
  },
  {
   "cell_type": "code",
   "execution_count": 10,
   "metadata": {},
   "outputs": [
    {
     "name": "stdout",
     "output_type": "stream",
     "text": [
      "\n",
      "            Премию Нобеля по экономике присудили за исследования экономики труда и причинно-следственных связей\n",
      "          \n"
     ]
    }
   ],
   "source": [
    "# Предположим, что мы знаем, что в HTML-коде рассматриваемой нами страницы заголовок статьи заключён в тег \n",
    "# <h1> … </h1> (заголовок первого уровня).\n",
    "# Тогда мы можем получить его текст с помощью метода find() (с англ. найти) объекта BeautifulSoup, передав ему \n",
    "# название интересующего нас тега:\n",
    "\n",
    "# Применяем метод find() к объекту и выводим результат на экран\n",
    "print(page.find('h1').text) "
   ]
  },
  {
   "cell_type": "code",
   "execution_count": 12,
   "metadata": {},
   "outputs": [
    {
     "name": "stdout",
     "output_type": "stream",
     "text": [
      "\n"
     ]
    }
   ],
   "source": [
    "# Видим, что искомый текст заключён в тег  <div> … </div> . Попробуем извлечь его уже известным нам способом — с \n",
    "# помощью метода find() — и выведем его на экран.\n",
    "\n",
    "print(page.find('div').text) # Выводим содержимое атрибута text тега div"
   ]
  },
  {
   "cell_type": "code",
   "execution_count": 13,
   "metadata": {},
   "outputs": [
    {
     "name": "stdout",
     "output_type": "stream",
     "text": [
      "Премия Шведского национального банка по экономическим наукам памяти Альфреда Нобеля за 2021 год присуждена Дэвиду Карду (David Card) за его вклад в эмпирические исследования экономики рынка труда, а также Джошуа Энгристу (Joshua Angrist) и Гвидо Имбенсу (Guido Imbens) за их вклад в методологию анализа причинно-следственных связей. Прямая трансляция церемонии объявления лауреатов шла на официальном сайте Нобелевской премии.\n"
     ]
    }
   ],
   "source": [
    "# Передадим название класса в метод find() с помощью аргумента class_ и получим текст статьи:\n",
    "\n",
    "print(page.find('div', class_='n1_material text-18').text) \n",
    "# Выводим содержимое атрибута text тега div класса n1_material text-18"
   ]
  },
  {
   "cell_type": "code",
   "execution_count": 14,
   "metadata": {},
   "outputs": [
    {
     "name": "stdout",
     "output_type": "stream",
     "text": [
      "\n",
      "11.10.21\n",
      "\n"
     ]
    }
   ],
   "source": [
    "# Выведем дату\n",
    "# Итак, нам нужен тег <a> … </a> с классом \"relative before:block before:w-px before:bg-current before:h-4 \n",
    "# before:absolute before:left-0 group pl-2 flex inline-flex items-center\". Для поиска достаточно указать в качестве \n",
    "# класса \"relative\", отбросив дополнительные настройки.\n",
    "\n",
    "#Теперь получим данные из него с помощью уже известного метода find(), передав название нужного тега:\n",
    "\n",
    "# Выводим на экран содержимое атрибута text тега a с классом \"relative\"\n",
    "print(page.find('a', class_= \"relative\").text)"
   ]
  },
  {
   "cell_type": "code",
   "execution_count": 15,
   "metadata": {},
   "outputs": [
    {
     "name": "stdout",
     "output_type": "stream",
     "text": [
      "<a class=\"mw-jump-link\" href=\"#bodyContent\">Jump to content</a>\n"
     ]
    }
   ],
   "source": [
    "# Например, представьте, что вы хотите получить названия всех языков программирования, упомянутых на странице в \n",
    "# Wikipedia в статье про языки программирования.\n",
    "\n",
    "# Можно заметить, что все названия языков программирования на этой странице связаны ссылками c соответствующими \n",
    "# статьями о них. Таким образом, нам необходимо собрать все ссылки на странице. Для ссылок в HTML предусмотрен тег \n",
    "# <a> … </a>. Попробуем использовать find():\n",
    "\n",
    "url = 'https://en.wikipedia.org/wiki/List_of_programming_languages' # Задаём адрес ресурса\n",
    "response = requests.get(url) # Делаем GET-запрос к ресурсу\n",
    "page = BeautifulSoup(response.text, 'html.parser') # Создаём объект BeautifulSoup\n",
    "print(page.find('a')) # Ищем ссылку по тегу <a> и выводим её на экран"
   ]
  },
  {
   "cell_type": "code",
   "execution_count": 16,
   "metadata": {},
   "outputs": [
    {
     "name": "stdout",
     "output_type": "stream",
     "text": [
      "960\n"
     ]
    }
   ],
   "source": [
    "# Это происходит, потому что метод find() возвращает только первый подходящий элемент. Если требуется получить \n",
    "# больше элементов, необходимо воспользоваться методом find_all() (с англ. найти все):\n",
    "\n",
    "links = page.find_all('a') # Ищем все ссылки на странице и сохраняем в переменной links в виде списка\n",
    "print(len(links)) # Выводим количество найденных ссылок\n"
   ]
  },
  {
   "cell_type": "code",
   "execution_count": 17,
   "metadata": {},
   "outputs": [
    {
     "name": "stdout",
     "output_type": "stream",
     "text": [
      "['M#', 'Machine code', 'MAD', 'MAD/I', 'Magik', 'Magma', 'Maple', 'MAPPER', 'MARK-IV', 'Mary']\n"
     ]
    }
   ],
   "source": [
    "# Посмотрим на некоторые из них:\n",
    "\n",
    "print([link.text for link in links[500:510]]) # Выводим ссылки с 500 по 509 включительно"
   ]
  }
 ],
 "metadata": {
  "kernelspec": {
   "display_name": "Python 3",
   "language": "python",
   "name": "python3"
  },
  "language_info": {
   "codemirror_mode": {
    "name": "ipython",
    "version": 3
   },
   "file_extension": ".py",
   "mimetype": "text/x-python",
   "name": "python",
   "nbconvert_exporter": "python",
   "pygments_lexer": "ipython3",
   "version": "3.11.4"
  }
 },
 "nbformat": 4,
 "nbformat_minor": 2
}
