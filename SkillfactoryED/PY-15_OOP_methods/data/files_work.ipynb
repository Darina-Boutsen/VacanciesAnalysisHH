{
 "cells": [
  {
   "cell_type": "code",
   "execution_count": 2,
   "metadata": {},
   "outputs": [
    {
     "name": "stdout",
     "output_type": "stream",
     "text": [
      "c:\\IDE\\Skillfactory\\PY-15 OOP methods\\data\n"
     ]
    }
   ],
   "source": [
    "# Чтобы поработать с путями, есть модуль os. Функция os.chdir() позволяет нам изменить директорию, которую мы в данный \n",
    "# момент используем. Если вам нужно знать, какой путь вы в данный момент используете, для этого нужно вызвать \n",
    "# os.getcwd().\n",
    "\n",
    "import os\n",
    "# получить текущий путь\n",
    "start_path = os.getcwd()\n",
    "print(start_path) # /home/nbuser/library"
   ]
  },
  {
   "cell_type": "code",
   "execution_count": 3,
   "metadata": {},
   "outputs": [
    {
     "data": {
      "text/plain": [
       "'c:\\\\IDE\\\\Skillfactory\\\\PY-15 OOP methods'"
      ]
     },
     "execution_count": 3,
     "metadata": {},
     "output_type": "execute_result"
    }
   ],
   "source": [
    "# Далее попробуем подняться на директорию выше:\n",
    "\n",
    "os.chdir(\"..\") # подняться на один уровень выше\n",
    "os.getcwd()"
   ]
  },
  {
   "cell_type": "code",
   "execution_count": 4,
   "metadata": {},
   "outputs": [
    {
     "data": {
      "text/plain": [
       "'c:\\\\IDE\\\\Skillfactory\\\\PY-15 OOP methods\\\\data'"
      ]
     },
     "execution_count": 4,
     "metadata": {},
     "output_type": "execute_result"
    }
   ],
   "source": [
    "# Теперь вернемся в ту директорию, из которой стартовали. Изначально мы сохраняли её в переменной start_path.\n",
    "\n",
    "os.chdir(start_path)\n",
    "os.getcwd()"
   ]
  },
  {
   "cell_type": "code",
   "execution_count": 5,
   "metadata": {},
   "outputs": [
    {
     "name": "stdout",
     "output_type": "stream",
     "text": [
      "['atribures_&_methods.ipynb', 'files_work.ipynb', 'objects_&_classes.ipynb']\n",
      "Файл отсутствует в данной директории\n"
     ]
    }
   ],
   "source": [
    "# С помощью функции os.listdir() можно получить весь список файлов, находящихся в директории. Если не указать никаких \n",
    "# аргументов, то будет взята текущая директория.\n",
    "\n",
    "# список файлов и директорий в папке\n",
    "import os\n",
    "\n",
    "print(os.listdir())\n",
    "\n",
    "if 'tmp.py' not in os.listdir():\n",
    "    print(\"Файл отсутствует в данной директории\")"
   ]
  },
  {
   "cell_type": "code",
   "execution_count": 6,
   "metadata": {},
   "outputs": [
    {
     "name": "stdout",
     "output_type": "stream",
     "text": [
      "c:\\IDE\\Skillfactory\\PY-15 OOP methods\\data\n",
      "c:\\IDE\\Skillfactory\\PY-15 OOP methods\\data\\test\n"
     ]
    }
   ],
   "source": [
    "# Для того чтобы склеивать пути с учётом особенностей ОС, следует использовать функцию os.path.join().\n",
    "\n",
    "# соединяет пути с учётом особенностей операционной системы\n",
    "print(start_path)\n",
    "print(os.path.join(start_path, 'test'))\n",
    "\n",
    "# /home/nbuser/library\n",
    "# /home/nbuser/library/test"
   ]
  },
  {
   "cell_type": "code",
   "execution_count": 7,
   "metadata": {},
   "outputs": [
    {
     "name": "stdout",
     "output_type": "stream",
     "text": [
      "Текущая директория c:\\IDE\\Skillfactory\\PY-15 OOP methods\\data\n",
      "---\n",
      "Папок нет\n",
      "---\n",
      "Список файлов ['atribures_&_methods.ipynb', 'files_work.ipynb', 'objects_&_classes.ipynb']\n",
      "---\n",
      "Файл  c:\\IDE\\Skillfactory\\PY-15 OOP methods\\data\\atribures_&_methods.ipynb\n",
      "Файл  c:\\IDE\\Skillfactory\\PY-15 OOP methods\\data\\files_work.ipynb\n",
      "Файл  c:\\IDE\\Skillfactory\\PY-15 OOP methods\\data\\objects_&_classes.ipynb\n",
      "===\n"
     ]
    }
   ],
   "source": [
    "# Сделайте функцию, которая принимает от пользователя путь и выводит всю информацию о содержимом этой папки. \n",
    "# Для реализации используйте функцию встроенного модуля os.walk(). Если путь не указан, то сравнение начинается с \n",
    "# текущей директории.\n",
    "\n",
    "\n",
    "import os\n",
    "\n",
    "def walk_desc(path=None):\n",
    "    start_path = path if path is not None else os.getcwd()\n",
    "\n",
    "    for root, dirs, files in os.walk(start_path):\n",
    "        print(\"Текущая директория\", root)\n",
    "        print(\"---\")\n",
    "\n",
    "        if dirs:\n",
    "            print(\"Список папок\", dirs)\n",
    "        else:\n",
    "            print(\"Папок нет\")\n",
    "        print(\"---\")\n",
    "\n",
    "        if files:\n",
    "            print(\"Список файлов\", files)\n",
    "        else:\n",
    "            print(\"Файлов нет\")\n",
    "        print(\"---\")\n",
    "\n",
    "        if files and dirs:\n",
    "            print(\"Все пути:\")\n",
    "        for f in files:\n",
    "            print(\"Файл \", os.path.join(root, f))\n",
    "        for d in dirs:\n",
    "            print(\"Папка \", os.path.join(root, d))\n",
    "        print(\"===\")\n",
    "\n",
    "walk_desc()"
   ]
  },
  {
   "cell_type": "code",
   "execution_count": null,
   "metadata": {},
   "outputs": [],
   "source": [
    "# Открыть файл можно с помощью команды специальной функции open.\n",
    "\n",
    "f = open('path/to/file', 'filemode', encoding='utf8')\n",
    "\n",
    "# Результатом этой операции будет файл, в котором указатель текущей позиции поставлен на начало или конец файла."
   ]
  },
  {
   "cell_type": "code",
   "execution_count": 30,
   "metadata": {},
   "outputs": [],
   "source": [
    "# Откроем файл на запись и с помощью метода write запишем в него строку. В качестве результата метод write возвращает \n",
    "# количество записанных символов.\n",
    "\n",
    "f = open('test.txt', 'w', encoding='utf8')\n",
    "\n",
    "# Запишем в файл строку\n",
    "f.write(\"This is a test string\\n\")\n",
    "f.write(\"This is a new string\\n\") # 22\n",
    "# обязательно нужно закрыть файл иначе он будет заблокирован ОС\n",
    "f.close()"
   ]
  },
  {
   "cell_type": "code",
   "execution_count": 31,
   "metadata": {},
   "outputs": [],
   "source": [
    "# Теперь давайте посмотрим, как читать данные из файла.\n",
    "# Откроем файл для чтения, в который только что записали две строки:\n",
    "\n",
    "f = open('test.txt', 'r', encoding='utf8')"
   ]
  },
  {
   "cell_type": "code",
   "execution_count": 32,
   "metadata": {},
   "outputs": [
    {
     "name": "stdout",
     "output_type": "stream",
     "text": [
      "This is a \n"
     ]
    }
   ],
   "source": [
    "# f.read(n) — операция, читающая с текущего места n символов, если файл открыт в t режиме, или n байт, если файл открыт \n",
    "# в b режиме, и возвращающая прочитанную информацию.\n",
    "\n",
    "print(f.read(10)) # This is a "
   ]
  },
  {
   "cell_type": "code",
   "execution_count": 33,
   "metadata": {},
   "outputs": [],
   "source": [
    "# После прочтения указатель на содержимое остается на той позиции, где чтение закончилось. Если n не указать, будет \n",
    "# прочитано «от печки», то есть от текущего места указателя и до самого конца файла.\n",
    "\n",
    "# считали остаток файла\n",
    "f.read() # test string\\nThis is a new string\\n\n",
    "\n",
    "# После работы обязательно закрываем файл:\n",
    "\n",
    "# обязательно закрываем файл\n",
    "f.close()"
   ]
  },
  {
   "cell_type": "code",
   "execution_count": 34,
   "metadata": {},
   "outputs": [],
   "source": [
    "# Метод f.writelines(sequence) не будет сам за вас дописывать символ конца строки ('\\n'), поэтому при необходимости \n",
    "# его нужно прописать вручную.\n",
    "\n",
    "f = open('test.txt', 'a', encoding='utf8') # открываем файл на дозапись\n",
    "\n",
    "sequence = [\"other string\\n\", \"123\\n\", \"test test\\n\"]\n",
    "f.writelines(sequence) # берет строки из sequence и записывает в файл (без переносов)\n",
    "\n",
    "f.close()"
   ]
  },
  {
   "cell_type": "code",
   "execution_count": 35,
   "metadata": {},
   "outputs": [
    {
     "name": "stdout",
     "output_type": "stream",
     "text": [
      "['This is a test string\\n', 'This is a new string\\n', 'other string\\n', '123\\n', 'test test\\n']\n"
     ]
    }
   ],
   "source": [
    "# Попробуем теперь построчно считать файл с помощью readlines:\n",
    "\n",
    "f = open('test.txt', 'r', encoding='utf8')\n",
    "\n",
    "print(f.readlines()) # считывает все строки в список и возвращает список\n",
    "\n",
    "f.close()"
   ]
  },
  {
   "cell_type": "code",
   "execution_count": 36,
   "metadata": {},
   "outputs": [
    {
     "name": "stdout",
     "output_type": "stream",
     "text": [
      "This is a test string\n",
      "\n",
      "This\n",
      " is a new string\n",
      "\n"
     ]
    }
   ],
   "source": [
    "# Метод f.readline() возвращает строку (символы от текущей позиции до символа переноса строки \\n, который остаётся в \n",
    "# конце строки и опускается только в последней строке файла, если файл не заканчивается новой строкой):\n",
    "\n",
    "f = open('test.txt', 'r', encoding='Windows-1251')\n",
    "\n",
    "print(f.readline()) # This is a test string\n",
    "print(f.read(4)) # This\n",
    "print(f.readline()) # is a new string\n",
    "\n",
    "f.close()"
   ]
  },
  {
   "cell_type": "code",
   "execution_count": 37,
   "metadata": {},
   "outputs": [
    {
     "name": "stdout",
     "output_type": "stream",
     "text": [
      "This is a test string\n",
      "This is a new string\n",
      "other string\n",
      "123\n",
      "test test\n"
     ]
    }
   ],
   "source": [
    "# Не стоит считывать файл полностью — в большинстве задач с обработкой текста весь файл разом читать не требуется. \n",
    "# В таком случае с файлом работают построчно.\n",
    "\n",
    "f = open('test.txt')  # можно перечислять строки в файле\n",
    "for line in f:\n",
    "    print(line, end='')\n",
    "\n",
    "# This is a test string\n",
    "# This is a new string\n",
    "# other string\n",
    "# 123\n",
    "# test test\n",
    "\n",
    "f.close()"
   ]
  },
  {
   "cell_type": "code",
   "execution_count": 39,
   "metadata": {},
   "outputs": [],
   "source": [
    "# Для явного указания места работы с файлом, а также чтобы не забывать закрывать файл после обработки, существует \n",
    "# менеджер контекста with.\n",
    "\n",
    "# В блоке менеджера контекста открытый файл «жив» и с ним можно работать, при выходе из блока - файл закрывается.\n",
    "with open(\"test.txt\", 'rb') as f:\n",
    "    a = f.read(10)\n",
    "    b = f.read(23)\n",
    "\n",
    "# f.read(3) # Error!"
   ]
  },
  {
   "cell_type": "code",
   "execution_count": null,
   "metadata": {},
   "outputs": [],
   "source": []
  }
 ],
 "metadata": {
  "kernelspec": {
   "display_name": "Python 3",
   "language": "python",
   "name": "python3"
  },
  "language_info": {
   "codemirror_mode": {
    "name": "ipython",
    "version": 3
   },
   "file_extension": ".py",
   "mimetype": "text/x-python",
   "name": "python",
   "nbconvert_exporter": "python",
   "pygments_lexer": "ipython3",
   "version": "3.11.4"
  }
 },
 "nbformat": 4,
 "nbformat_minor": 2
}
